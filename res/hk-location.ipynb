{
 "cells": [
  {
   "metadata": {},
   "cell_type": "markdown",
   "source": "# Suicide Location Clustering",
   "id": "53cf39b9a92a438"
  },
  {
   "metadata": {},
   "cell_type": "markdown",
   "source": "## 🧩 Step 1: Load and prepare the data\n",
   "id": "b287b9f013855c61"
  },
  {
   "metadata": {
    "ExecuteTime": {
     "end_time": "2025-04-17T09:24:51.534575Z",
     "start_time": "2025-04-17T09:24:50.486361Z"
    }
   },
   "cell_type": "code",
   "source": [
    "import json\n",
    "import folium\n",
    "import numpy as np\n",
    "import pandas as pd\n",
    "from sklearn.cluster import DBSCAN\n",
    "\n",
    "# Load data\n",
    "df = pd.read_csv(\"../dataset/suicide.csv\")\n",
    "df[\"Latitude\"] = df[\"Latitude\"].astype(float)\n",
    "df[\"Longitude\"] = df[\"Longitude\"].astype(float)\n",
    "\n",
    "# Convert coordinates to radians for haversine metric\n",
    "coords = np.radians(df[[\"Latitude\", \"Longitude\"]].values)"
   ],
   "id": "9159a651df52ca12",
   "outputs": [],
   "execution_count": 1
  },
  {
   "metadata": {},
   "cell_type": "markdown",
   "source": "## Step 2: Apply DBSCAN clustering with Haversine distance",
   "id": "ddee30f67e97e4f9"
  },
  {
   "metadata": {
    "ExecuteTime": {
     "end_time": "2025-04-17T09:24:58.185118Z",
     "start_time": "2025-04-17T09:24:58.090178Z"
    }
   },
   "cell_type": "code",
   "source": [
    "# Apply DBSCAN using haversine metric with approx. 1km radius\n",
    "db = DBSCAN(eps=2 / 6371, min_samples=50, metric='haversine')\n",
    "df[\"cluster\"] = db.fit_predict(coords)"
   ],
   "id": "d429e0bbeaff57c8",
   "outputs": [],
   "execution_count": 2
  },
  {
   "metadata": {},
   "cell_type": "markdown",
   "source": "## 🧩 Step 3: Create base map",
   "id": "fa99da60bf3c2a96"
  },
  {
   "metadata": {
    "ExecuteTime": {
     "end_time": "2025-04-17T09:25:00.067314Z",
     "start_time": "2025-04-17T09:25:00.063276Z"
    }
   },
   "cell_type": "code",
   "source": [
    "# Initialize a Folium map centered on Hong Kong\n",
    "m = folium.Map(location=[22.35, 114.15], zoom_start=11)"
   ],
   "id": "4c336b7d411f806",
   "outputs": [],
   "execution_count": 3
  },
  {
   "metadata": {},
   "cell_type": "markdown",
   "source": "## 🧩 Step 4: Load GeoJSON boundaries\n",
   "id": "70fc4fe42d9b7090"
  },
  {
   "metadata": {
    "ExecuteTime": {
     "end_time": "2025-04-17T09:25:01.485742Z",
     "start_time": "2025-04-17T09:25:01.400747Z"
    }
   },
   "cell_type": "code",
   "source": [
    "# Load GeoJSON for 18 Districts\n",
    "with open(\"../dataset/HK18Districts.geojson\", \"r\", encoding=\"utf-8\") as f:\n",
    "    geojson_data = json.load(f)\n",
    "\n",
    "# Add GeoJSON layer to map with tooltip showing district name\n",
    "folium.GeoJson(\n",
    "    geojson_data,\n",
    "    name=\"Hong Kong 18 Districts\",\n",
    "    style_function=lambda feature: {\n",
    "        \"fillColor\": \"#cccccc\",\n",
    "        \"color\": \"black\",\n",
    "        \"weight\": 1,\n",
    "        \"fillOpacity\": 0.1\n",
    "    },\n",
    "    tooltip=folium.GeoJsonTooltip(fields=[\"CNAME\"])\n",
    ").add_to(m)"
   ],
   "id": "2c88dd2f6e78a2ab",
   "outputs": [
    {
     "data": {
      "text/plain": [
       "<folium.features.GeoJson at 0x130597910>"
      ]
     },
     "execution_count": 4,
     "metadata": {},
     "output_type": "execute_result"
    }
   ],
   "execution_count": 4
  },
  {
   "metadata": {},
   "cell_type": "markdown",
   "source": "## 🧩 Step 5: Assign colors to each cluster",
   "id": "51757fa7f28a8a09"
  },
  {
   "metadata": {
    "ExecuteTime": {
     "end_time": "2025-04-17T09:25:03.075417Z",
     "start_time": "2025-04-17T09:25:03.068775Z"
    }
   },
   "cell_type": "code",
   "source": [
    "# Define a color list for clusters\n",
    "colors = [\n",
    "    \"red\", \"blue\", \"green\", \"purple\", \"orange\", \"darkred\", \"lightred\",\n",
    "    \"beige\", \"darkblue\", \"darkgreen\", \"cadetblue\", \"darkpurple\",\n",
    "    \"white\", \"pink\", \"lightblue\", \"lightgreen\", \"gray\", \"black\"\n",
    "]\n",
    "\n",
    "# Map each cluster ID to a color\n",
    "unique_clusters = sorted(df[\"cluster\"].unique())\n",
    "cluster_colors = {\n",
    "    cluster_id: colors[i % len(colors)] if cluster_id != -1 else \"gray\"\n",
    "    for i, cluster_id in enumerate(unique_clusters)\n",
    "}"
   ],
   "id": "18fca01806e50aa7",
   "outputs": [],
   "execution_count": 5
  },
  {
   "metadata": {},
   "cell_type": "markdown",
   "source": "## 🧩 Step 6: Add clustered points to the map\n",
   "id": "b41818b4ef527862"
  },
  {
   "metadata": {
    "ExecuteTime": {
     "end_time": "2025-04-17T09:25:04.616215Z",
     "start_time": "2025-04-17T09:25:04.285927Z"
    }
   },
   "cell_type": "code",
   "source": [
    "# Add each point to the map with cluster color and popup info\n",
    "for _, row in df.iterrows():\n",
    "    folium.CircleMarker(\n",
    "        location=[row[\"Latitude\"], row[\"Longitude\"]],\n",
    "        radius=6,\n",
    "        color=cluster_colors[row[\"cluster\"]],\n",
    "        fill=True,\n",
    "        fill_opacity=0.8,\n",
    "        popup=f\"{row['District']} {row['Unit']}<br>Cluster: {row['cluster']}\"\n",
    "    ).add_to(m)"
   ],
   "id": "571cb143b4f4596d",
   "outputs": [],
   "execution_count": 6
  },
  {
   "metadata": {},
   "cell_type": "markdown",
   "source": "## 🧩 Step 7: Add cluster center markers and print location info\n",
   "id": "a92737624e11dcdb"
  },
  {
   "metadata": {
    "ExecuteTime": {
     "end_time": "2025-04-17T09:25:07.427323Z",
     "start_time": "2025-04-17T09:25:07.415966Z"
    }
   },
   "cell_type": "code",
   "source": [
    "print(\"\\n📍 Cluster centers (excluding noise):\")\n",
    "for cluster_id in unique_clusters:\n",
    "    if cluster_id == -1:\n",
    "        continue  # Skip noise\n",
    "\n",
    "    cluster_points = df[df[\"cluster\"] == cluster_id]\n",
    "    center_lat = cluster_points[\"Latitude\"].mean()\n",
    "    center_lon = cluster_points[\"Longitude\"].mean()\n",
    "\n",
    "    # Find the point nearest to the center\n",
    "    distances = ((cluster_points[\"Latitude\"] - center_lat) ** 2 +\n",
    "                 (cluster_points[\"Longitude\"] - center_lon) ** 2)\n",
    "    nearest_point = cluster_points.loc[distances.idxmin()]\n",
    "\n",
    "    # Extract location info from the nearest point\n",
    "    district_info = f\"{nearest_point.get('District', '')} {nearest_point.get('subDistrict', '')} {nearest_point.get('Unit', '')} {nearest_point.get('subUnit', '')}\".strip()\n",
    "\n",
    "    # Print to console\n",
    "    print(f\"Cluster {cluster_id}: ({center_lat:.5f}, {center_lon:.5f}) - Area: {district_info}\")\n",
    "\n",
    "    # Add cluster center marker to map\n",
    "    folium.Marker(\n",
    "        location=[center_lat, center_lon],\n",
    "        icon=folium.Icon(color=\"black\", icon=\"star\", prefix=\"fa\"),\n",
    "        popup=(f\"<b>Cluster {cluster_id} Center</b><br>\"\n",
    "               f\"Location: ({center_lat:.5f}, {center_lon:.5f})<br>\"\n",
    "               f\"Area: {district_info}\")\n",
    "    ).add_to(m)"
   ],
   "id": "2ed74e27f3827e2",
   "outputs": [
    {
     "name": "stdout",
     "output_type": "stream",
     "text": [
      "\n",
      "📍 Cluster centers (excluding noise):\n",
      "Cluster 0: (22.32637, 114.18198) - Area: 九龍城區 九龍仔 喇沙利道 Caravelle Villa\n",
      "Cluster 1: (22.47538, 114.15026) - Area: 大埔區 八仙嶺 一停車場 現場\n",
      "Cluster 2: (22.42329, 113.99309) - Area: 屯門區 藍地 達福路 一汽車\n",
      "Cluster 3: (22.28681, 113.94054) - Area: 離島區 東涌 富東邨 東盛樓\n"
     ]
    }
   ],
   "execution_count": 7
  },
  {
   "metadata": {},
   "cell_type": "markdown",
   "source": "## 🧩 Step 8: Save the map to HTML\n",
   "id": "e88884d282dfbf77"
  },
  {
   "metadata": {
    "ExecuteTime": {
     "end_time": "2025-04-17T09:25:13.895900Z",
     "start_time": "2025-04-17T09:25:11.639235Z"
    }
   },
   "cell_type": "code",
   "source": [
    "# Save the final interactive map\n",
    "m.save(\"suicide_clusters_with_geojson.html\")\n",
    "print(\"✅ Map saved to suicide_clusters_with_geojson.html\")"
   ],
   "id": "d3d75d71c014e52e",
   "outputs": [
    {
     "name": "stdout",
     "output_type": "stream",
     "text": [
      "✅ Map saved to suicide_clusters_with_geojson.html\n"
     ]
    }
   ],
   "execution_count": 8
  },
  {
   "metadata": {},
   "cell_type": "markdown",
   "source": "## 🧩 Step 9: Display point counts for each cluster (including noise)",
   "id": "e1f29c43eea49662"
  },
  {
   "metadata": {
    "ExecuteTime": {
     "end_time": "2025-04-17T09:25:30.876310Z",
     "start_time": "2025-04-17T09:25:30.868171Z"
    }
   },
   "cell_type": "code",
   "source": [
    "# Count number of points in each cluster (including noise)\n",
    "cluster_counts = df[\"cluster\"].value_counts().sort_index()\n",
    "print(\"\\n📊 Number of points in each cluster:\")\n",
    "for cluster_id, count in cluster_counts.items():\n",
    "    if cluster_id == -1:\n",
    "        print(f\"Cluster -1 (Noise): {count} points\")\n",
    "    else:\n",
    "        print(f\"Cluster {cluster_id}: {count} points\")"
   ],
   "id": "420ecc95e20d5060",
   "outputs": [
    {
     "name": "stdout",
     "output_type": "stream",
     "text": [
      "\n",
      "📊 Number of points in each cluster:\n",
      "Cluster -1 (Noise): 260 points\n",
      "Cluster 0: 4937 points\n",
      "Cluster 1: 434 points\n",
      "Cluster 2: 821 points\n",
      "Cluster 3: 84 points\n"
     ]
    }
   ],
   "execution_count": 9
  },
  {
   "metadata": {},
   "cell_type": "markdown",
   "source": "## 🧩 Step 10: Evaluate clustering performance (excluding noise)",
   "id": "d618c23404118e00"
  },
  {
   "metadata": {
    "ExecuteTime": {
     "end_time": "2025-04-17T09:25:33.088008Z",
     "start_time": "2025-04-17T09:25:32.786947Z"
    }
   },
   "cell_type": "code",
   "source": [
    "from sklearn.metrics import silhouette_score, davies_bouldin_score, calinski_harabasz_score\n",
    "\n",
    "# Only use non-noise data for evaluation\n",
    "df_valid = df[df[\"cluster\"] != -1]\n",
    "X = np.radians(df_valid[[\"Latitude\", \"Longitude\"]].values)  # same format as clustering\n",
    "labels = df_valid[\"cluster\"].values\n",
    "n_clusters = len(set(labels))\n",
    "\n",
    "if n_clusters > 1:\n",
    "    sil_score = silhouette_score(X, labels, metric=\"euclidean\")\n",
    "    db_score = davies_bouldin_score(X, labels)\n",
    "    ch_score = calinski_harabasz_score(X, labels)\n",
    "\n",
    "    print(\"\\n📈 Internal evaluation metrics (excluding noise):\")\n",
    "    print(f\"🔹 Silhouette Coefficient: {sil_score:.4f}  (closer to 1 is better)\")\n",
    "    print(f\"🔹 Davies-Bouldin Index:   {db_score:.4f}  (lower is better)\")\n",
    "    print(f\"🔹 Calinski-Harabasz Index: {ch_score:.2f} (higher is better)\")\n",
    "else:\n",
    "    print(\"\\n⚠️ Not enough clusters to compute evaluation metrics.\")"
   ],
   "id": "49c112f3b12de3be",
   "outputs": [
    {
     "name": "stdout",
     "output_type": "stream",
     "text": [
      "\n",
      "📈 Internal evaluation metrics (excluding noise):\n",
      "🔹 Silhouette Coefficient: 0.5412  (closer to 1 is better)\n",
      "🔹 Davies-Bouldin Index:   0.4525  (lower is better)\n",
      "🔹 Calinski-Harabasz Index: 4871.44 (higher is better)\n"
     ]
    }
   ],
   "execution_count": 10
  },
  {
   "metadata": {},
   "cell_type": "markdown",
   "source": "# Association Rule Mining (Location -> Method)",
   "id": "dca99879a29883b8"
  },
  {
   "metadata": {},
   "cell_type": "markdown",
   "source": "## 🧩 Step 1: Load data",
   "id": "b0fa7de1bcce2e71"
  },
  {
   "metadata": {
    "ExecuteTime": {
     "end_time": "2025-04-17T09:25:51.057313Z",
     "start_time": "2025-04-17T09:25:51.027246Z"
    }
   },
   "cell_type": "code",
   "source": [
    "import pandas as pd\n",
    "import matplotlib.pyplot as plt\n",
    "from mlxtend.preprocessing import TransactionEncoder\n",
    "from mlxtend.frequent_patterns import apriori, association_rules\n",
    "\n",
    "# Support Traditional Chinese font in plots\n",
    "plt.rcParams['font.sans-serif'] = ['PingFang HK']\n",
    "plt.rcParams['axes.unicode_minus'] = False\n",
    "plt.style.use('ggplot')\n",
    "\n",
    "# Load CSV data\n",
    "df = pd.read_csv(\"../dataset/suicide.csv\")"
   ],
   "id": "144be566bc6f2630",
   "outputs": [],
   "execution_count": 12
  },
  {
   "metadata": {},
   "cell_type": "markdown",
   "source": "## 🧩 Step 2: Construct transaction records from location and suicide methods",
   "id": "616a3e9211880fce"
  },
  {
   "metadata": {
    "ExecuteTime": {
     "end_time": "2025-04-17T09:25:53.267627Z",
     "start_time": "2025-04-17T09:25:53.124327Z"
    }
   },
   "cell_type": "code",
   "source": [
    "# Each transaction = {subUnit + House, Method(s)}\n",
    "records = []\n",
    "for _, row in df.iterrows():\n",
    "    items = set()\n",
    "\n",
    "    # Combine location info: subUnit + House\n",
    "    if pd.notna(row[\"subUnit\"]) and pd.notna(row[\"House\"]):\n",
    "        place = f\"{row['subUnit'].strip()}_{row['House'].strip()}\"\n",
    "        items.add(place)\n",
    "\n",
    "    # Add all suicide methods\n",
    "    for col in [\"type1\", \"type2\", \"type3\"]:\n",
    "        if pd.notna(row[col]) and row[col].strip() != \"\":\n",
    "            items.add(f\"Method_{row[col].strip()}\")\n",
    "\n",
    "    if items:\n",
    "        records.append(list(items))"
   ],
   "id": "1c3e52fde08d6603",
   "outputs": [],
   "execution_count": 13
  },
  {
   "metadata": {},
   "cell_type": "markdown",
   "source": "## 🧩 Step 3: Convert to boolean matrix",
   "id": "15ff3aec8323a11b"
  },
  {
   "metadata": {
    "ExecuteTime": {
     "end_time": "2025-04-17T09:25:57.871304Z",
     "start_time": "2025-04-17T09:25:57.865702Z"
    }
   },
   "cell_type": "code",
   "source": [
    "te = TransactionEncoder()\n",
    "te_ary = te.fit(records).transform(records)\n",
    "df_bool = pd.DataFrame(te_ary, columns=te.columns_)"
   ],
   "id": "ad312e0bc89bce96",
   "outputs": [],
   "execution_count": 14
  },
  {
   "metadata": {},
   "cell_type": "markdown",
   "source": "## 🧩 Step 4: Run Apriori algorithm",
   "id": "98338f86be87534b"
  },
  {
   "metadata": {
    "ExecuteTime": {
     "end_time": "2025-04-17T09:25:59.050199Z",
     "start_time": "2025-04-17T09:25:59.033014Z"
    }
   },
   "cell_type": "code",
   "source": "frequent_itemsets = apriori(df_bool, min_support=0.00784806, use_colnames=True) # 50 cases",
   "id": "16ee201351dbb29a",
   "outputs": [],
   "execution_count": 15
  },
  {
   "metadata": {},
   "cell_type": "markdown",
   "source": "## 🧩 Step 5: Generate association rules",
   "id": "37c6bf7368d9f4b6"
  },
  {
   "metadata": {
    "ExecuteTime": {
     "end_time": "2025-04-17T09:26:01.585206Z",
     "start_time": "2025-04-17T09:26:01.577329Z"
    }
   },
   "cell_type": "code",
   "source": [
    "rules = association_rules(frequent_itemsets, metric=\"lift\", min_threshold=1)\n",
    "rules = rules[rules['consequents'].apply(lambda x: any('Method_' in i for i in x))]"
   ],
   "id": "16a1b26efdbb3ef4",
   "outputs": [],
   "execution_count": 16
  },
  {
   "metadata": {},
   "cell_type": "markdown",
   "source": "## 🧩 Step 6: Sort rules by lift",
   "id": "7f76aa204200c470"
  },
  {
   "metadata": {
    "ExecuteTime": {
     "end_time": "2025-04-17T09:26:02.303339Z",
     "start_time": "2025-04-17T09:26:02.294349Z"
    }
   },
   "cell_type": "code",
   "source": [
    "rules_sorted = rules[['antecedents', 'consequents', 'support', 'confidence', 'lift']] \\\n",
    "    .sort_values(by='lift', ascending=False)\n",
    "\n",
    "rules_sorted"
   ],
   "id": "9006446a681b5b04",
   "outputs": [
    {
     "data": {
      "text/plain": [
       "     antecedents  consequents   support  confidence       lift\n",
       "0     (對開海面_非住宅)  (Method_淹溺)  0.070073    0.993492  11.432159\n",
       "4      (一汽車_非住宅)  (Method_燒炭)  0.015453    0.901786   8.456344\n",
       "6     (附近樹上_非住宅)  (Method_自縊)  0.008109    1.000000   6.724280\n",
       "3       (一單位_村屋)  (Method_燒炭)  0.011169    0.477124   4.474152\n",
       "12      (高處_非住宅)  (Method_跳落)  0.084302    0.998188   1.774316\n",
       "8   (一大廈高處_私人屋苑)  (Method_跳落)  0.018054    0.975207   1.733465\n",
       "11    (行人天橋_非住宅)  (Method_跳落)  0.017136    0.949153   1.687153"
      ],
      "text/html": [
       "<div>\n",
       "<style scoped>\n",
       "    .dataframe tbody tr th:only-of-type {\n",
       "        vertical-align: middle;\n",
       "    }\n",
       "\n",
       "    .dataframe tbody tr th {\n",
       "        vertical-align: top;\n",
       "    }\n",
       "\n",
       "    .dataframe thead th {\n",
       "        text-align: right;\n",
       "    }\n",
       "</style>\n",
       "<table border=\"1\" class=\"dataframe\">\n",
       "  <thead>\n",
       "    <tr style=\"text-align: right;\">\n",
       "      <th></th>\n",
       "      <th>antecedents</th>\n",
       "      <th>consequents</th>\n",
       "      <th>support</th>\n",
       "      <th>confidence</th>\n",
       "      <th>lift</th>\n",
       "    </tr>\n",
       "  </thead>\n",
       "  <tbody>\n",
       "    <tr>\n",
       "      <th>0</th>\n",
       "      <td>(對開海面_非住宅)</td>\n",
       "      <td>(Method_淹溺)</td>\n",
       "      <td>0.070073</td>\n",
       "      <td>0.993492</td>\n",
       "      <td>11.432159</td>\n",
       "    </tr>\n",
       "    <tr>\n",
       "      <th>4</th>\n",
       "      <td>(一汽車_非住宅)</td>\n",
       "      <td>(Method_燒炭)</td>\n",
       "      <td>0.015453</td>\n",
       "      <td>0.901786</td>\n",
       "      <td>8.456344</td>\n",
       "    </tr>\n",
       "    <tr>\n",
       "      <th>6</th>\n",
       "      <td>(附近樹上_非住宅)</td>\n",
       "      <td>(Method_自縊)</td>\n",
       "      <td>0.008109</td>\n",
       "      <td>1.000000</td>\n",
       "      <td>6.724280</td>\n",
       "    </tr>\n",
       "    <tr>\n",
       "      <th>3</th>\n",
       "      <td>(一單位_村屋)</td>\n",
       "      <td>(Method_燒炭)</td>\n",
       "      <td>0.011169</td>\n",
       "      <td>0.477124</td>\n",
       "      <td>4.474152</td>\n",
       "    </tr>\n",
       "    <tr>\n",
       "      <th>12</th>\n",
       "      <td>(高處_非住宅)</td>\n",
       "      <td>(Method_跳落)</td>\n",
       "      <td>0.084302</td>\n",
       "      <td>0.998188</td>\n",
       "      <td>1.774316</td>\n",
       "    </tr>\n",
       "    <tr>\n",
       "      <th>8</th>\n",
       "      <td>(一大廈高處_私人屋苑)</td>\n",
       "      <td>(Method_跳落)</td>\n",
       "      <td>0.018054</td>\n",
       "      <td>0.975207</td>\n",
       "      <td>1.733465</td>\n",
       "    </tr>\n",
       "    <tr>\n",
       "      <th>11</th>\n",
       "      <td>(行人天橋_非住宅)</td>\n",
       "      <td>(Method_跳落)</td>\n",
       "      <td>0.017136</td>\n",
       "      <td>0.949153</td>\n",
       "      <td>1.687153</td>\n",
       "    </tr>\n",
       "  </tbody>\n",
       "</table>\n",
       "</div>"
      ]
     },
     "execution_count": 17,
     "metadata": {},
     "output_type": "execute_result"
    }
   ],
   "execution_count": 17
  },
  {
   "metadata": {},
   "cell_type": "markdown",
   "source": "## 🧩 Step 7: Visualize the rules as a bubble chart",
   "id": "e5d87e44484aa923"
  },
  {
   "metadata": {
    "ExecuteTime": {
     "end_time": "2025-04-17T09:26:09.452769Z",
     "start_time": "2025-04-17T09:26:09.328465Z"
    }
   },
   "cell_type": "code",
   "source": [
    "plt.figure(figsize=(12, 8))\n",
    "\n",
    "# Bubble size = lift * 100\n",
    "bubble_size = rules_sorted['lift'] * 100\n",
    "\n",
    "# Create readable labels\n",
    "labels = rules_sorted.apply(\n",
    "    lambda row: f\"{list(row['antecedents'])[0]} → {list(row['consequents'])[0].replace('Method_', '')}\",\n",
    "    axis=1\n",
    ")\n",
    "\n",
    "# Draw the scatter plot\n",
    "scatter = plt.scatter(\n",
    "    rules_sorted['support'],\n",
    "    rules_sorted['confidence'],\n",
    "    s=bubble_size,\n",
    "    c=rules_sorted['lift'],\n",
    "    cmap='viridis',\n",
    "    alpha=0.7,\n",
    "    edgecolors='k'\n",
    ")\n",
    "\n",
    "# Add text labels\n",
    "for i, label in enumerate(labels):\n",
    "    plt.text(\n",
    "        rules_sorted['support'].iloc[i],\n",
    "        rules_sorted['confidence'].iloc[i],\n",
    "        label,\n",
    "        fontsize=9,\n",
    "        ha='right',\n",
    "        va='bottom'\n",
    "    )\n",
    "\n",
    "plt.colorbar(scatter, label='Lift')\n",
    "plt.xlabel('Support')\n",
    "plt.ylabel('Confidence')\n",
    "plt.title('Association rule visualization (Location → Method)')\n",
    "plt.grid(True)\n",
    "plt.tight_layout()\n",
    "plt.show()"
   ],
   "id": "4988c66bda3fb5e3",
   "outputs": [
    {
     "data": {
      "text/plain": [
       "<Figure size 1200x800 with 2 Axes>"
      ],
      "image/png": "[encoded data removed]"
     },
     "metadata": {},
     "output_type": "display_data"
    }
   ],
   "execution_count": 18
  }
 ],
 "metadata": {
  "kernelspec": {
   "name": "python3",
   "language": "python",
   "display_name": "Python 3 (ipykernel)"
  }
 },
 "nbformat": 5,
 "nbformat_minor": 9
}
